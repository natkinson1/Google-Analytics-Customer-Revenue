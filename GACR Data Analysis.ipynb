{
 "cells": [
  {
   "cell_type": "markdown",
   "metadata": {},
   "source": [
    "# Data Analysis of GACR\n",
    "\n",
    "Here I am going to take a look at the data and find some important features which I can then use in my predictive model."
   ]
  },
  {
   "cell_type": "markdown",
   "metadata": {},
   "source": [
    "## Importing the neccessary packages"
   ]
  },
  {
   "cell_type": "code",
   "execution_count": 19,
   "metadata": {},
   "outputs": [],
   "source": [
    "import pandas as pd\n",
    "import plotly.plotly as py\n",
    "import plotly.graph_objs as go\n",
    "from plotly import tools\n",
    "import plotly \n",
    "plotly.tools.set_credentials_file(username='natkinson1', api_key='bJw4a17SHuEaxRUIsCFP')"
   ]
  },
  {
   "cell_type": "markdown",
   "metadata": {},
   "source": [
    "## Loading in the prepared data from the previous Jupyter Notebook"
   ]
  },
  {
   "cell_type": "code",
   "execution_count": 20,
   "metadata": {},
   "outputs": [
    {
     "name": "stderr",
     "output_type": "stream",
     "text": [
      "C:\\Users\\Nikhil\\Anaconda3\\lib\\site-packages\\IPython\\core\\interactiveshell.py:2785: DtypeWarning:\n",
      "\n",
      "Columns (3,50) have mixed types. Specify dtype option on import or set low_memory=False.\n",
      "\n"
     ]
    }
   ],
   "source": [
    "train = pd.read_csv('prep_data.csv', index_col=0)"
   ]
  },
  {
   "cell_type": "markdown",
   "metadata": {},
   "source": [
    "# Data Visualization"
   ]
  },
  {
   "cell_type": "code",
   "execution_count": 21,
   "metadata": {
    "scrolled": false
   },
   "outputs": [
    {
     "name": "stdout",
     "output_type": "stream",
     "text": [
      "This is the format of your plot grid:\n",
      "[ (1,1) x1,y1 ]  [ (1,2) x2,y2 ]\n",
      "[ (2,1) x3,y3 ]  [ (2,2) x4,y4 ]\n",
      "\n"
     ]
    },
    {
     "data": {
      "text/html": [
       "<iframe id=\"igraph\" scrolling=\"no\" style=\"border:none;\" seamless=\"seamless\" src=\"https://plot.ly/~natkinson1/40.embed\" height=\"800px\" width=\"800px\"></iframe>"
      ],
      "text/plain": [
       "<plotly.tools.PlotlyDisplay object>"
      ]
     },
     "execution_count": 21,
     "metadata": {},
     "output_type": "execute_result"
    }
   ],
   "source": [
    "def graph_ready(groupby_variable):\n",
    "\n",
    "    table = train.groupby(groupby_variable, as_index=True)[\"totals.transactionRevenue\"].agg([\"size\", \"count\", \"mean\"])\n",
    "    table.columns = [\"count\", \"count of non-zero revenue\", \"mean\"]\n",
    "    table = table.sort_values(by=\"count\", ascending=False)\n",
    "    table = table.reset_index()\n",
    "    \n",
    "    return table\n",
    "\n",
    "devicebrowser_table = graph_ready(\"device.browser\")\n",
    "devicetype_table = graph_ready(\"device.deviceCategory\")\n",
    "\n",
    "\n",
    "trace1 = go.Bar(x=devicebrowser_table[\"device.browser\"].head(10),y=devicebrowser_table[\"count\"].head(10),\n",
    "                name=\"Device Browser count\")\n",
    "\n",
    "trace2 = go.Bar(x=devicebrowser_table[\"device.browser\"].head(10),y=devicebrowser_table[\"mean\"].head(10),\n",
    "                name=\"Device Browser mean\")\n",
    "\n",
    "trace3 = go.Bar(x=devicetype_table[\"device.deviceCategory\"].head(3), y=devicetype_table[\"count\"].head(3),\n",
    "                name=\"Device Type count\")\n",
    "\n",
    "trace4 = go.Bar(x=devicetype_table[\"device.deviceCategory\"].head(3), y=devicetype_table[\"mean\"].head(3),\n",
    "                name=\"Device Type mean\")\n",
    "\n",
    "\n",
    "fig = tools.make_subplots(rows=2, cols=2, subplot_titles=(\"Device Browser Count\", \"Device Browser Mean Revenue\", \n",
    "                                                         \"Device Type Count\", \"Device Type Mean Revenue\"))\n",
    "\n",
    "fig.append_trace(trace1, 1, 1)\n",
    "fig.append_trace(trace2, 1, 2)\n",
    "fig.append_trace(trace3, 2, 1)\n",
    "fig.append_trace(trace4, 2, 2)\n",
    "\n",
    "layout = go.Layout(showlegend=False)\n",
    "\n",
    "fig['layout'].update(height=800, width=800, title=\"Revenue per Category\")\n",
    "py.iplot(fig)"
   ]
  },
  {
   "cell_type": "code",
   "execution_count": 22,
   "metadata": {},
   "outputs": [
    {
     "data": {
      "text/html": [
       "<iframe id=\"igraph\" scrolling=\"no\" style=\"border:none;\" seamless=\"seamless\" src=\"https://plot.ly/~natkinson1/42.embed\" height=\"525px\" width=\"100%\"></iframe>"
      ],
      "text/plain": [
       "<plotly.tools.PlotlyDisplay object>"
      ]
     },
     "execution_count": 22,
     "metadata": {},
     "output_type": "execute_result"
    }
   ],
   "source": [
    "page_views = graph_ready(\"totals.pageviews\")\n",
    "\n",
    "pageview_graph = go.Bar(x=page_views[\"totals.pageviews\"].head(20), y=page_views[\"count of non-zero revenue\"].head(20))\n",
    "data = [pageview_graph]\n",
    "\n",
    "layout = go.Layout(\n",
    "    title='Transaction Revenue per Page View',\n",
    "    xaxis=dict(title='Number of page views'),\n",
    "    yaxis=dict(title='Transaction Revenue'))\n",
    "fig = go.Figure(data=data, layout=layout)\n",
    "py.iplot(fig)"
   ]
  },
  {
   "cell_type": "markdown",
   "metadata": {},
   "source": [
    "Above we can see that the total views feature has a strong correlation between transaction revenue for a particular customer.\n",
    "Let's use this as a feature when making our model."
   ]
  }
 ],
 "metadata": {
  "kernelspec": {
   "display_name": "Python 3",
   "language": "python",
   "name": "python3"
  },
  "language_info": {
   "codemirror_mode": {
    "name": "ipython",
    "version": 3
   },
   "file_extension": ".py",
   "mimetype": "text/x-python",
   "name": "python",
   "nbconvert_exporter": "python",
   "pygments_lexer": "ipython3",
   "version": "3.6.5"
  }
 },
 "nbformat": 4,
 "nbformat_minor": 2
}
